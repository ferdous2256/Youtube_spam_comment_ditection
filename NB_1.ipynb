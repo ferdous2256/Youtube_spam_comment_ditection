{
  "cells": [
    {
      "cell_type": "code",
      "execution_count": null,
      "metadata": {
        "id": "6Woc-6bxGTtp"
      },
      "outputs": [],
      "source": [
        "import pandas as pd\n",
        "import zipfile\n",
        "import pickle \n",
        "from sklearn.model_selection import train_test_split\n",
        "from sklearn.feature_extraction.text import TfidfVectorizer\n",
        "from sklearn.naive_bayes import MultinomialNB\n",
        "from sklearn.metrics import confusion_matrix,classification_report\n"
      ]
    },
    {
      "cell_type": "code",
      "execution_count": null,
      "metadata": {
        "colab": {
          "base_uri": "https://localhost:8080/"
        },
        "id": "sgamvaYXJWpd",
        "outputId": "b944e960-f3dd-4dbb-bef3-41aafe2d9985"
      },
      "outputs": [
        {
          "name": "stdout",
          "output_type": "stream",
          "text": [
            "Mounted at /content/drive\n"
          ]
        }
      ],
      "source": [
        "from google.colab import drive\n",
        "drive.mount(\"/content/drive\")"
      ]
    },
    {
      "cell_type": "code",
      "execution_count": null,
      "metadata": {
        "colab": {
          "base_uri": "https://localhost:8080/",
          "height": 206
        },
        "id": "PqpQoiZqJpYM",
        "outputId": "87d07bf1-20de-45bf-c760-97a25e3109bb"
      },
      "outputs": [
        {
          "data": {
            "text/html": [
              "\n",
              "  <div id=\"df-4d9a97ed-9cf7-4c59-b116-05b72b958794\">\n",
              "    <div class=\"colab-df-container\">\n",
              "      <div>\n",
              "<style scoped>\n",
              "    .dataframe tbody tr th:only-of-type {\n",
              "        vertical-align: middle;\n",
              "    }\n",
              "\n",
              "    .dataframe tbody tr th {\n",
              "        vertical-align: top;\n",
              "    }\n",
              "\n",
              "    .dataframe thead th {\n",
              "        text-align: right;\n",
              "    }\n",
              "</style>\n",
              "<table border=\"1\" class=\"dataframe\">\n",
              "  <thead>\n",
              "    <tr style=\"text-align: right;\">\n",
              "      <th></th>\n",
              "      <th>COMMENT_ID</th>\n",
              "      <th>AUTHOR</th>\n",
              "      <th>DATE</th>\n",
              "      <th>CONTENT</th>\n",
              "      <th>CLASS</th>\n",
              "    </tr>\n",
              "  </thead>\n",
              "  <tbody>\n",
              "    <tr>\n",
              "      <th>0</th>\n",
              "      <td>LZQPQhLyRh80UYxNuaDWhIGQYNQ96IuCg-AYWqNPjpU</td>\n",
              "      <td>Julius NM</td>\n",
              "      <td>2013-11-07T06:20:48</td>\n",
              "      <td>Huh, anyway check out this you[tube] channel: ...</td>\n",
              "      <td>1</td>\n",
              "    </tr>\n",
              "    <tr>\n",
              "      <th>1</th>\n",
              "      <td>LZQPQhLyRh_C2cTtd9MvFRJedxydaVW-2sNg5Diuo4A</td>\n",
              "      <td>adam riyati</td>\n",
              "      <td>2013-11-07T12:37:15</td>\n",
              "      <td>Hey guys check out my new channel and our firs...</td>\n",
              "      <td>1</td>\n",
              "    </tr>\n",
              "    <tr>\n",
              "      <th>2</th>\n",
              "      <td>LZQPQhLyRh9MSZYnf8djyk0gEF9BHDPYrrK-qCczIY8</td>\n",
              "      <td>Evgeny Murashkin</td>\n",
              "      <td>2013-11-08T17:34:21</td>\n",
              "      <td>just for test I have to say murdev.com</td>\n",
              "      <td>1</td>\n",
              "    </tr>\n",
              "    <tr>\n",
              "      <th>3</th>\n",
              "      <td>z13jhp0bxqncu512g22wvzkasxmvvzjaz04</td>\n",
              "      <td>ElNino Melendez</td>\n",
              "      <td>2013-11-09T08:28:43</td>\n",
              "      <td>me shaking my sexy ass on my channel enjoy ^_^ ﻿</td>\n",
              "      <td>1</td>\n",
              "    </tr>\n",
              "    <tr>\n",
              "      <th>4</th>\n",
              "      <td>z13fwbwp1oujthgqj04chlngpvzmtt3r3dw</td>\n",
              "      <td>GsMega</td>\n",
              "      <td>2013-11-10T16:05:38</td>\n",
              "      <td>watch?v=vtaRGgvGtWQ   Check this out .﻿</td>\n",
              "      <td>1</td>\n",
              "    </tr>\n",
              "  </tbody>\n",
              "</table>\n",
              "</div>\n",
              "      <button class=\"colab-df-convert\" onclick=\"convertToInteractive('df-4d9a97ed-9cf7-4c59-b116-05b72b958794')\"\n",
              "              title=\"Convert this dataframe to an interactive table.\"\n",
              "              style=\"display:none;\">\n",
              "        \n",
              "  <svg xmlns=\"http://www.w3.org/2000/svg\" height=\"24px\"viewBox=\"0 0 24 24\"\n",
              "       width=\"24px\">\n",
              "    <path d=\"M0 0h24v24H0V0z\" fill=\"none\"/>\n",
              "    <path d=\"M18.56 5.44l.94 2.06.94-2.06 2.06-.94-2.06-.94-.94-2.06-.94 2.06-2.06.94zm-11 1L8.5 8.5l.94-2.06 2.06-.94-2.06-.94L8.5 2.5l-.94 2.06-2.06.94zm10 10l.94 2.06.94-2.06 2.06-.94-2.06-.94-.94-2.06-.94 2.06-2.06.94z\"/><path d=\"M17.41 7.96l-1.37-1.37c-.4-.4-.92-.59-1.43-.59-.52 0-1.04.2-1.43.59L10.3 9.45l-7.72 7.72c-.78.78-.78 2.05 0 2.83L4 21.41c.39.39.9.59 1.41.59.51 0 1.02-.2 1.41-.59l7.78-7.78 2.81-2.81c.8-.78.8-2.07 0-2.86zM5.41 20L4 18.59l7.72-7.72 1.47 1.35L5.41 20z\"/>\n",
              "  </svg>\n",
              "      </button>\n",
              "      \n",
              "  <style>\n",
              "    .colab-df-container {\n",
              "      display:flex;\n",
              "      flex-wrap:wrap;\n",
              "      gap: 12px;\n",
              "    }\n",
              "\n",
              "    .colab-df-convert {\n",
              "      background-color: #E8F0FE;\n",
              "      border: none;\n",
              "      border-radius: 50%;\n",
              "      cursor: pointer;\n",
              "      display: none;\n",
              "      fill: #1967D2;\n",
              "      height: 32px;\n",
              "      padding: 0 0 0 0;\n",
              "      width: 32px;\n",
              "    }\n",
              "\n",
              "    .colab-df-convert:hover {\n",
              "      background-color: #E2EBFA;\n",
              "      box-shadow: 0px 1px 2px rgba(60, 64, 67, 0.3), 0px 1px 3px 1px rgba(60, 64, 67, 0.15);\n",
              "      fill: #174EA6;\n",
              "    }\n",
              "\n",
              "    [theme=dark] .colab-df-convert {\n",
              "      background-color: #3B4455;\n",
              "      fill: #D2E3FC;\n",
              "    }\n",
              "\n",
              "    [theme=dark] .colab-df-convert:hover {\n",
              "      background-color: #434B5C;\n",
              "      box-shadow: 0px 1px 3px 1px rgba(0, 0, 0, 0.15);\n",
              "      filter: drop-shadow(0px 1px 2px rgba(0, 0, 0, 0.3));\n",
              "      fill: #FFFFFF;\n",
              "    }\n",
              "  </style>\n",
              "\n",
              "      <script>\n",
              "        const buttonEl =\n",
              "          document.querySelector('#df-4d9a97ed-9cf7-4c59-b116-05b72b958794 button.colab-df-convert');\n",
              "        buttonEl.style.display =\n",
              "          google.colab.kernel.accessAllowed ? 'block' : 'none';\n",
              "\n",
              "        async function convertToInteractive(key) {\n",
              "          const element = document.querySelector('#df-4d9a97ed-9cf7-4c59-b116-05b72b958794');\n",
              "          const dataTable =\n",
              "            await google.colab.kernel.invokeFunction('convertToInteractive',\n",
              "                                                     [key], {});\n",
              "          if (!dataTable) return;\n",
              "\n",
              "          const docLinkHtml = 'Like what you see? Visit the ' +\n",
              "            '<a target=\"_blank\" href=https://colab.research.google.com/notebooks/data_table.ipynb>data table notebook</a>'\n",
              "            + ' to learn more about interactive tables.';\n",
              "          element.innerHTML = '';\n",
              "          dataTable['output_type'] = 'display_data';\n",
              "          await google.colab.output.renderOutput(dataTable, element);\n",
              "          const docLink = document.createElement('div');\n",
              "          docLink.innerHTML = docLinkHtml;\n",
              "          element.appendChild(docLink);\n",
              "        }\n",
              "      </script>\n",
              "    </div>\n",
              "  </div>\n",
              "  "
            ],
            "text/plain": [
              "                                    COMMENT_ID  ... CLASS\n",
              "0  LZQPQhLyRh80UYxNuaDWhIGQYNQ96IuCg-AYWqNPjpU  ...     1\n",
              "1  LZQPQhLyRh_C2cTtd9MvFRJedxydaVW-2sNg5Diuo4A  ...     1\n",
              "2  LZQPQhLyRh9MSZYnf8djyk0gEF9BHDPYrrK-qCczIY8  ...     1\n",
              "3          z13jhp0bxqncu512g22wvzkasxmvvzjaz04  ...     1\n",
              "4          z13fwbwp1oujthgqj04chlngpvzmtt3r3dw  ...     1\n",
              "\n",
              "[5 rows x 5 columns]"
            ]
          },
          "execution_count": 6,
          "metadata": {},
          "output_type": "execute_result"
        }
      ],
      "source": [
        "z= zipfile.ZipFile(\"/content/drive/MyDrive/Colab Notebooks/YouTube-Spam-Collection-v1.zip\")\n",
        "Psy=pd.read_csv(z.open(\"Youtube01-Psy.csv\"))\n",
        "Psy.head()"
      ]
    },
    {
      "cell_type": "code",
      "execution_count": null,
      "metadata": {
        "id": "tVCvWaNlMCfQ"
      },
      "outputs": [],
      "source": [
        " data = pd.concat([Psy])\n",
        " data.drop([\"COMMENT_ID\",\"DATE\",\"AUTHOR\"],axis=1,inplace=True)\n"
      ]
    },
    {
      "cell_type": "markdown",
      "metadata": {
        "id": "XyroRjnKqm23"
      },
      "source": [
        "ham equals 0\n",
        "spam equals 1"
      ]
    },
    {
      "cell_type": "code",
      "execution_count": null,
      "metadata": {
        "colab": {
          "base_uri": "https://localhost:8080/"
        },
        "id": "A_8jUmaVOnuZ",
        "outputId": "63137203-da77-42c6-d748-65e44523b79a"
      },
      "outputs": [
        {
          "name": "stdout",
          "output_type": "stream",
          "text": [
            "49     thumbs up if u checked this video to see hw vi...\n",
            "92                            Check my channel, please!﻿\n",
            "89     Ching Ching ling long ding ring yaaaaaa Ganga ...\n",
            "324    Hahah, juyk! I allways laugh at the part 1:57....\n",
            "79     Hi there~I'm group leader of Angel, a rookie K...\n",
            "                             ...                        \n",
            "90     https://www.indiegogo.com/projects/cleaning-th...\n",
            "121    how can there be 2.124.821.694 views, when im ...\n",
            "166    please like : http://www.bubblews.com/news/927...\n",
            "0      Huh, anyway check out this you[tube] channel: ...\n",
            "194    WAT DA FUCK THIS THE MOST VIEWED VIDEO IN YOUT...\n",
            "Name: CONTENT, Length: 262, dtype: object 206                                      Wow 23 min ago﻿\n",
            "195    OMG 2/7 People watched this video because ther...\n",
            "128    Discover a beautiful song of A young Moroccan ...\n",
            "327    https://www.facebook.com/FUDAIRYQUEEN?pnref=st...\n",
            "312    I still to this day wonder why this video is s...\n",
            "                             ...                        \n",
            "208                      P E A C E  &amp;  L O V E  ! !﻿\n",
            "7      i turned it on mute as soon is i came on i jus...\n",
            "211                                 subscribe to me :) ﻿\n",
            "270    The little PSY is suffering Brain Tumor and on...\n",
            "282                               What my gangnam style﻿\n",
            "Name: CONTENT, Length: 88, dtype: object 49     0\n",
            "92     1\n",
            "89     0\n",
            "324    0\n",
            "79     1\n",
            "      ..\n",
            "90     1\n",
            "121    0\n",
            "166    1\n",
            "0      1\n",
            "194    0\n",
            "Name: CLASS, Length: 262, dtype: int64 206    0\n",
            "195    0\n",
            "128    1\n",
            "327    1\n",
            "312    0\n",
            "      ..\n",
            "208    0\n",
            "7      0\n",
            "211    1\n",
            "270    0\n",
            "282    0\n",
            "Name: CLASS, Length: 88, dtype: int64\n"
          ]
        }
      ],
      "source": [
        "X_train,X_test,y_train,y_test=train_test_split(data[\"CONTENT\"],data[\"CLASS\"])\n",
        "print(X_train,X_test,y_train,y_test)"
      ]
    },
    {
      "cell_type": "code",
      "execution_count": null,
      "metadata": {
        "colab": {
          "base_uri": "https://localhost:8080/"
        },
        "id": "9Dte9-bBPiQK",
        "outputId": "b35f90a4-337d-4c46-9a1d-38b766864c76"
      },
      "outputs": [
        {
          "data": {
            "text/plain": [
              "(262, 1161)"
            ]
          },
          "execution_count": 9,
          "metadata": {},
          "output_type": "execute_result"
        }
      ],
      "source": [
        "tfidf_vect = TfidfVectorizer(use_idf=True,lowercase=True)\n",
        "X_train_tfidf = tfidf_vect.fit_transform(X_train)\n",
        "X_train_tfidf.shape"
      ]
    },
    {
      "cell_type": "code",
      "execution_count": null,
      "metadata": {
        "colab": {
          "base_uri": "https://localhost:8080/"
        },
        "id": "VvuS1sEYQwUs",
        "outputId": "a6438365-258b-4fd3-eb10-caf4a178548f"
      },
      "outputs": [
        {
          "data": {
            "text/plain": [
              "MultinomialNB()"
            ]
          },
          "execution_count": 10,
          "metadata": {},
          "output_type": "execute_result"
        }
      ],
      "source": [
        "model =MultinomialNB()\n",
        "model.fit(X_train_tfidf,y_train)\n"
      ]
    },
    {
      "cell_type": "code",
      "execution_count": null,
      "metadata": {
        "colab": {
          "base_uri": "https://localhost:8080/"
        },
        "id": "AKz11a_zRZUn",
        "outputId": "40f49605-d34c-4634-9d89-a5d6f300d6c2"
      },
      "outputs": [
        {
          "data": {
            "text/plain": [
              "array([0, 0, 1, 1, 0, 1, 0, 1, 0, 1, 0, 0, 1, 0, 0, 0, 1, 1, 0, 1, 1, 0,\n",
              "       0, 0, 1, 1, 0, 1, 1, 1, 0, 0, 0, 1, 1, 1, 1, 0, 1, 0, 1, 1, 0, 0,\n",
              "       0, 0, 0, 1, 0, 1, 1, 1, 0, 0, 0, 0, 0, 1, 1, 1, 0, 0, 1, 1, 1, 1,\n",
              "       1, 0, 1, 0, 0, 0, 1, 1, 0, 0, 0, 1, 1, 1, 1, 0, 1, 1, 0, 1, 0, 0])"
            ]
          },
          "execution_count": 11,
          "metadata": {},
          "output_type": "execute_result"
        }
      ],
      "source": [
        "X_test_tfidf= tfidf_vect.transform(X_test)\n",
        "predictions = model.predict(X_test_tfidf)\n",
        "predictions"
      ]
    },
    {
      "cell_type": "code",
      "execution_count": null,
      "metadata": {
        "colab": {
          "base_uri": "https://localhost:8080/"
        },
        "id": "XYGLrLnhRypG",
        "outputId": "f8961e2b-7847-431e-cca6-dd57a05e4c32"
      },
      "outputs": [
        {
          "data": {
            "text/plain": [
              "array([[44,  4],\n",
              "       [ 0, 40]])"
            ]
          },
          "execution_count": 12,
          "metadata": {},
          "output_type": "execute_result"
        }
      ],
      "source": [
        "confusion_matrix(y_test,predictions)"
      ]
    },
    {
      "cell_type": "code",
      "execution_count": null,
      "metadata": {
        "colab": {
          "base_uri": "https://localhost:8080/"
        },
        "id": "gMcN11uGSshy",
        "outputId": "cbe11193-3818-48d9-afc4-f3042cfe6aac"
      },
      "outputs": [
        {
          "name": "stdout",
          "output_type": "stream",
          "text": [
            "              precision    recall  f1-score   support\n",
            "\n",
            "           0       1.00      0.92      0.96        48\n",
            "           1       0.91      1.00      0.95        40\n",
            "\n",
            "    accuracy                           0.95        88\n",
            "   macro avg       0.95      0.96      0.95        88\n",
            "weighted avg       0.96      0.95      0.95        88\n",
            "\n"
          ]
        }
      ],
      "source": [
        "print(classification_report(y_test,predictions))"
      ]
    },
    {
      "cell_type": "markdown",
      "metadata": {
        "id": "-iO3Ixq4lF6s"
      },
      "source": [
        "#Confusion Matrix"
      ]
    },
    {
      "cell_type": "code",
      "execution_count": null,
      "metadata": {
        "id": "cSqiJICYTbgF"
      },
      "outputs": [],
      "source": [
        "#This Function converts the Probability of our model into labels\n",
        "def ProToClass(ProList):\n",
        "    ClassList=[]\n",
        "    for x in ProList:\n",
        "        if (x >= 0.5):\n",
        "            ClassList.append(1)                \n",
        "        else:\n",
        "            ClassList.append(0)\n",
        "    return ClassList"
      ]
    },
    {
      "cell_type": "code",
      "execution_count": null,
      "metadata": {
        "colab": {
          "base_uri": "https://localhost:8080/"
        },
        "id": "9E6oP7r-lMzt",
        "outputId": "1a1db638-59a9-4435-f997-dbe2ebb8777b"
      },
      "outputs": [
        {
          "name": "stdout",
          "output_type": "stream",
          "text": [
            "[0, 0, 1, 1, 0, 1, 0, 1, 0, 1, 0, 0, 1, 0, 0, 0, 1, 1, 0, 1, 1, 0, 0, 0, 1, 1, 0, 1, 1, 1, 0, 0, 0, 1, 1, 1, 1, 0, 1, 0, 1, 1, 0, 0, 0, 0, 0, 1, 0, 1, 1, 1, 0, 0, 0, 0, 0, 1, 1, 1, 0, 0, 1, 1, 1, 1, 1, 0, 1, 0, 0, 0, 1, 1, 0, 0, 0, 1, 1, 1, 1, 0, 1, 1, 0, 1, 0, 0]\n",
            "******************\n",
            "Confusion Matrix\n",
            "[[40  0]\n",
            " [ 4 44]]\n"
          ]
        }
      ],
      "source": [
        "y_test_pre=model.predict(X_test_tfidf)\n",
        " #print(y_test)\n",
        "  \n",
        "# y_test_pre=keras.utils.to_categorical(y_test_pre, num_classes=2)\n",
        "y_test_pre = ProToClass(y_test_pre)\n",
        "print(y_test_pre)\n",
        "print(\"******************\")\n",
        "print(\"Confusion Matrix\")\n",
        "cm1 = confusion_matrix(y_test,y_test_pre,labels=[1, 0])\n",
        "print(cm1)"
      ]
    },
    {
      "cell_type": "code",
      "execution_count": null,
      "metadata": {
        "id": "sJLGf6u-l0W6"
      },
      "outputs": [],
      "source": [
        "import tensorflow as tf\n",
        "import numpy as np\n",
        "from matplotlib import pyplot as plt"
      ]
    },
    {
      "cell_type": "code",
      "execution_count": null,
      "metadata": {
        "colab": {
          "base_uri": "https://localhost:8080/",
          "height": 292
        },
        "id": "bZ9UoXLJlmra",
        "outputId": "be7b61eb-9f7b-45ba-ca3f-e77915efa4bd"
      },
      "outputs": [
        {
          "data": {
            "text/plain": [
              "<matplotlib.image.AxesImage at 0x7fb526509510>"
            ]
          },
          "execution_count": 19,
          "metadata": {},
          "output_type": "execute_result"
        },
        {
          "data": {
            "image/png": "[encoded data removed]",
            "text/plain": [
              "<Figure size 288x288 with 1 Axes>"
            ]
          },
          "metadata": {
            "needs_background": "light"
          },
          "output_type": "display_data"
        }
      ],
      "source": [
        "plt.matshow(cm1)"
      ]
    },
    {
      "cell_type": "code",
      "execution_count": null,
      "metadata": {
        "id": "dyndVC-Ombqi"
      },
      "outputs": [],
      "source": [
        "def plot_confusion_matrix(cm, y_test_pre, title='Confusion matrix', cmap=plt.cm.Blues):\n",
        "    plt.imshow(cm, interpolation='nearest', cmap=cmap)\n",
        "    plt.title(title)\n",
        "    plt.colorbar()\n",
        "    tick_marks = np.arange(len(y_test_pre))\n",
        "    plt.xticks(tick_marks, y_test_pre, rotation=60)\n",
        "    plt.yticks(tick_marks,y_test_pre)\n",
        "    plt.tight_layout()\n",
        "\n",
        "    width,height =cm.shape\n",
        "    \n",
        "\n",
        "    for x in range(width):\n",
        "        for y in range(height):\n",
        "            plt.annotate(str(cm[x][y]), xy=(y, x), \n",
        "                        horizontalalignment='center',\n",
        "                        verticalalignment='center')\n",
        "    plt.ylabel('True label')\n",
        "    plt.xlabel('Predicted label')\n",
        "\n",
        "\n",
        "plot_confusion_matrix(cm1,y_test_pre)\n",
        "\n",
        "plt.savefig('confusionMatrix.png')\n",
        "plt.savefig('confusionMatrix.pdf')"
      ]
    }
  ],
  "metadata": {
    "colab": {
      "collapsed_sections": [],
      "name": "NB (1).ipynb",
      "provenance": []
    },
    "kernelspec": {
      "display_name": "Python 3",
      "name": "python3"
    },
    "language_info": {
      "name": "python"
    }
  },
  "nbformat": 4,
  "nbformat_minor": 0
}
